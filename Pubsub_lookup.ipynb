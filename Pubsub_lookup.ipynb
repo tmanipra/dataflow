{
 "cells": [
  {
   "cell_type": "code",
   "execution_count": 1,
   "id": "b418b670-f4cb-4f66-8cda-69c7c509e54e",
   "metadata": {},
   "outputs": [
    {
     "name": "stderr",
     "output_type": "stream",
     "text": [
      "/jupyter/.kernels/apache-beam-2.49.0/lib/python3.8/site-packages/apache_beam/io/gcp/bigquery.py:2028: BeamDeprecationWarning: options is deprecated since First stable release. References to <pipeline>.options will not be supported\n",
      "  is_streaming_pipeline = p.options.view_as(StandardOptions).streaming\n",
      "INFO:apache_beam.runners.direct.direct_runner:Running pipeline with DirectRunner.\n",
      "WARNING:apache_beam.runners.direct.direct_runner:The DirectPipelineResult is being garbage-collected while the DirectRunner is still running the corresponding pipeline. This may lead to incomplete execution of the pipeline if the main thread exits before pipeline completion. Consider using result.wait_until_finish() to wait for completion of pipeline execution.\n",
      "INFO:apache_beam.internal.gcp.auth:Setting socket default timeout to 60 seconds.\n",
      "INFO:apache_beam.internal.gcp.auth:socket default timeout is 60.0 seconds.\n"
     ]
    },
    {
     "name": "stdout",
     "output_type": "stream",
     "text": [
      "{'msg': 'key1,data1\\n,value1_enriched'}\n",
      "{'msg': 'key2,data2,Unknown'}\n",
      "{'msg': 'key3,data3,value3_enriched'}\n"
     ]
    }
   ],
   "source": [
    "import apache_beam as beam\n",
    "from apache_beam.options.pipeline_options import PipelineOptions\n",
    "from apache_beam.options.pipeline_options import GoogleCloudOptions\n",
    "from apache_beam.transforms.trigger import AfterWatermark, AfterCount\n",
    "import logging\n",
    "\n",
    "class PrintMessages(beam.DoFn):\n",
    "    def process(self, element):\n",
    "        print(element)\n",
    "        yield element\n",
    "\n",
    "class EnrichWithLookup(beam.DoFn):\n",
    "    def __init__(self, lookup_data):\n",
    "        self.lookup_data = lookup_data\n",
    "\n",
    "    def process(self, element, timestamp=beam.DoFn.TimestampParam):\n",
    "        key = element['msg'].split(',')[0]\n",
    "        if key in self.lookup_data:\n",
    "            yield beam.window.TimestampedValue(\n",
    "                {'msg': f\"{element['msg']},{self.lookup_data[key]}\"}, timestamp)\n",
    "        else:\n",
    "            yield beam.window.TimestampedValue(\n",
    "                {'msg': f\"{element['msg']},Unknown\"}, timestamp)\n",
    "\n",
    "def run():\n",
    "    pipeline_options = PipelineOptions()\n",
    "\n",
    "    # Set the Google Cloud project and specify the Dataflow runner\n",
    "    google_cloud_options = pipeline_options.view_as(GoogleCloudOptions)\n",
    "    google_cloud_options.project = 'my-another-394512'\n",
    "    google_cloud_options.job_name = 'pubsub-to-bq-batch1'\n",
    "    google_cloud_options.staging_location = 'gs://maniprakash-bucket/staging'\n",
    "    google_cloud_options.temp_location = 'gs://maniprakash-bucket/temp'\n",
    "    google_cloud_options.region = 'europe-west2'\n",
    "\n",
    "    # Enable streaming mode\n",
    "    pipeline_options.view_as(beam.options.pipeline_options.StandardOptions).streaming = True\n",
    "    pipeline_options.view_as(beam.options.pipeline_options.StandardOptions).runner = 'DirectRunner'\n",
    "\n",
    "    # Create the pipeline\n",
    "    pipeline = beam.Pipeline(options=pipeline_options)\n",
    "\n",
    "    # Define the lookup data as a dictionary within the code\n",
    "    lookup_data = {\n",
    "        'key1': 'value1_enriched',\n",
    "        'key3': 'value3_enriched'\n",
    "    }\n",
    "\n",
    "    # Read messages from Pub/Sub topic\n",
    "    messages = (\n",
    "        pipeline\n",
    "        | 'Read from Pub/Sub' >> beam.io.ReadFromPubSub(subscription='projects/my-another-394512/subscriptions/my-topic-sub')\n",
    "        | 'Decode message' >> beam.Map(lambda x: x.decode('utf-8'))\n",
    "        | 'Format Messages' >> beam.Map(lambda x: {'msg': x})\n",
    "    )\n",
    "\n",
    "    # Apply windowing and triggers\n",
    "    windowed_messages = messages | 'Apply Windowing' >> beam.WindowInto(\n",
    "        beam.window.FixedWindows(60),  # 1-minute window\n",
    "        trigger=AfterWatermark(early=AfterCount(10), late=AfterCount(20)),  # Batch trigger\n",
    "        accumulation_mode=beam.trigger.AccumulationMode.DISCARDING\n",
    "    )\n",
    "\n",
    "    # Apply lookup enrichment using ParDo\n",
    "    enriched_messages = windowed_messages | 'Enrich with Lookup' >> beam.ParDo(\n",
    "        EnrichWithLookup(lookup_data=lookup_data)\n",
    "    )\n",
    "\n",
    "    # Print messages to console\n",
    "    enriched_messages | 'Print Enriched Messages' >> beam.ParDo(PrintMessages())\n",
    "\n",
    "    # Write messages to BigQuery\n",
    "    table_spec = 'my-another-394512.mydataset.pubsub'\n",
    "    enriched_messages | 'Write to BigQuery' >> beam.io.WriteToBigQuery(\n",
    "        table_spec,\n",
    "        schema='msg:STRING',  # Define your schema here\n",
    "        write_disposition=beam.io.BigQueryDisposition.WRITE_APPEND,\n",
    "        create_disposition=beam.io.BigQueryDisposition.CREATE_IF_NEEDED\n",
    "    )\n",
    "\n",
    "    pipeline.run()\n",
    "\n",
    "if __name__ == '__main__':\n",
    "    logging.getLogger().setLevel(logging.INFO)\n",
    "    run()\n"
   ]
  },
  {
   "cell_type": "code",
   "execution_count": null,
   "id": "51351eba-20ff-4dbd-bd80-38c09faa1f3c",
   "metadata": {},
   "outputs": [],
   "source": []
  }
 ],
 "metadata": {
  "kernelspec": {
   "display_name": "01. Apache Beam 2.49.0 for Python 3",
   "language": "python",
   "name": "01-apache-beam-2.49.0"
  },
  "language_info": {
   "codemirror_mode": {
    "name": "ipython",
    "version": 3
   },
   "file_extension": ".py",
   "mimetype": "text/x-python",
   "name": "python",
   "nbconvert_exporter": "python",
   "pygments_lexer": "ipython3",
   "version": "3.8.10"
  }
 },
 "nbformat": 4,
 "nbformat_minor": 5
}
