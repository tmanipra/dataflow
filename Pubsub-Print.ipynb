{
 "cells": [
  {
   "cell_type": "code",
   "execution_count": 1,
   "id": "a1bd6dd1-fc15-4127-bd19-8398d235931d",
   "metadata": {},
   "outputs": [
    {
     "name": "stderr",
     "output_type": "stream",
     "text": [
      "WARNING:apache_beam.runners.direct.direct_runner:The DirectPipelineResult is being garbage-collected while the DirectRunner is still running the corresponding pipeline. This may lead to incomplete execution of the pipeline if the main thread exits before pipeline completion. Consider using result.wait_until_finish() to wait for completion of pipeline execution.\n"
     ]
    },
    {
     "name": "stdout",
     "output_type": "stream",
     "text": [
      "nahajaksaladsaldnalksndlkancalknsclkans\n",
      "nahajaksaladsaldnalksndlkancalknsclkans\n"
     ]
    }
   ],
   "source": [
    "import apache_beam as beam\n",
    "from apache_beam.options.pipeline_options import PipelineOptions\n",
    "from apache_beam.options.pipeline_options import GoogleCloudOptions\n",
    "\n",
    "class PrintMessages(beam.DoFn):\n",
    "    def process(self, element):\n",
    "        print(element)\n",
    "        yield element\n",
    "\n",
    "def run():\n",
    "    pipeline_options = PipelineOptions()\n",
    "\n",
    "    # Set the Google Cloud project and specify the Dataflow runner\n",
    "    google_cloud_options = pipeline_options.view_as(GoogleCloudOptions)\n",
    "    google_cloud_options.project = 'my-another-394512'\n",
    "    google_cloud_options.job_name = 'pubsub-to-csv'\n",
    "    google_cloud_options.staging_location = 'gs://maniprakash-bucket/staging'\n",
    "    google_cloud_options.temp_location = 'gs://maniprakash-bucket/temp'\n",
    "    google_cloud_options.region = 'europe-west2'\n",
    "\n",
    "    # Enable streaming mode\n",
    "    pipeline_options.view_as(beam.options.pipeline_options.StandardOptions).streaming = True\n",
    "\n",
    "    # Create the pipeline\n",
    "    pipeline = beam.Pipeline(options=pipeline_options)\n",
    "\n",
    "    # Read messages from Pub/Sub topic\n",
    "    messages = (\n",
    "        pipeline\n",
    "        | 'Read from Pub/Sub' >> beam.io.ReadFromPubSub(subscription='projects/my-another-394512/subscriptions/my-topic-sub')\n",
    "        | 'Decode message' >> beam.Map(lambda x: x.decode('utf-8'))\n",
    "    )\n",
    "\n",
    "    # Print messages to console\n",
    "    messages | 'Print Messages' >> beam.ParDo(PrintMessages())\n",
    "\n",
    "    pipeline.run()\n",
    "\n",
    "if __name__ == '__main__':\n",
    "    run()\n"
   ]
  },
  {
   "cell_type": "code",
   "execution_count": null,
   "id": "e5f31e31-645e-4d05-bcb1-8d529fbd93d9",
   "metadata": {},
   "outputs": [],
   "source": []
  }
 ],
 "metadata": {
  "kernelspec": {
   "display_name": "01. Apache Beam 2.49.0 for Python 3",
   "language": "python",
   "name": "01-apache-beam-2.49.0"
  },
  "language_info": {
   "codemirror_mode": {
    "name": "ipython",
    "version": 3
   },
   "file_extension": ".py",
   "mimetype": "text/x-python",
   "name": "python",
   "nbconvert_exporter": "python",
   "pygments_lexer": "ipython3",
   "version": "3.8.10"
  }
 },
 "nbformat": 4,
 "nbformat_minor": 5
}
