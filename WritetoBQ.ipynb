{
 "cells": [
  {
   "cell_type": "code",
   "execution_count": 5,
   "id": "5d1b00ef-dac4-4e3a-ae6a-c0c49cd4496a",
   "metadata": {},
   "outputs": [
    {
     "name": "stderr",
     "output_type": "stream",
     "text": [
      "WARNING:apache_beam.runners.direct.direct_runner:The DirectPipelineResult is being garbage-collected while the DirectRunner is still running the corresponding pipeline. This may lead to incomplete execution of the pipeline if the main thread exits before pipeline completion. Consider using result.wait_until_finish() to wait for completion of pipeline execution.\n"
     ]
    },
    {
     "name": "stdout",
     "output_type": "stream",
     "text": [
      "Netpulse\n",
      "Netpulse\n",
      "Netpulse\n",
      "Netpulse\n",
      "Netpulse\n",
      "Netpulse\n",
      "Netpulse\n",
      "Netpulse\n",
      "Netpulse\n",
      "Netpulse\n"
     ]
    }
   ],
   "source": [
    "import apache_beam as beam\n",
    "from apache_beam.options.pipeline_options import PipelineOptions\n",
    "from apache_beam.options.pipeline_options import GoogleCloudOptions\n",
    "from apache_beam.transforms.window import FixedWindows\n",
    "\n",
    "class PrintMessages(beam.DoFn):\n",
    "    def process(self, element):\n",
    "        print(element)\n",
    "        yield element\n",
    "\n",
    "def run():\n",
    "    pipeline_options = PipelineOptions()\n",
    "\n",
    "    # Set the Google Cloud project and specify the Dataflow runner\n",
    "    google_cloud_options = pipeline_options.view_as(GoogleCloudOptions)\n",
    "    google_cloud_options.project = 'my-another-394512'\n",
    "    google_cloud_options.job_name = 'pubsub-to-bq'\n",
    "    google_cloud_options.staging_location = 'gs://maniprakash-bucket/staging'\n",
    "    google_cloud_options.temp_location = 'gs://maniprakash-bucket/temp'\n",
    "    google_cloud_options.region = 'europe-west2'\n",
    "\n",
    "    # Enable streaming mode\n",
    "    pipeline_options.view_as(beam.options.pipeline_options.StandardOptions).streaming = True\n",
    "\n",
    "    # Create the pipeline\n",
    "    pipeline = beam.Pipeline(options=pipeline_options)\n",
    "\n",
    "    # Read messages from Pub/Sub topic\n",
    "    messages = (\n",
    "        pipeline\n",
    "        | 'Read from Pub/Sub' >> beam.io.ReadFromPubSub(subscription='projects/my-another-394512/subscriptions/my-topic-sub')\n",
    "        | 'Decode message' >> beam.Map(lambda x: x.decode('utf-8'))\n",
    "        | 'Add timestamps' >> beam.Map(lambda x: beam.window.TimestampedValue(x, 0))  # Assign fixed timestamps\n",
    "    )\n",
    "\n",
    "    # Apply fixed windowing\n",
    "    windowed_messages = messages | 'Apply Windowing' >> beam.WindowInto(FixedWindows(60))  # 1 second window\n",
    "\n",
    "    # Print messages to console\n",
    "    windowed_messages | 'Print Messages' >> beam.ParDo(PrintMessages())\n",
    "\n",
    "    # Write messages to BigQuery\n",
    "    table_spec = 'my-another-394512:mydataset.pubsub'\n",
    "    windowed_messages | 'Write to BigQuery' >> beam.io.WriteToBigQuery(\n",
    "        table_spec,\n",
    "        schema='msg:STRING',  # Define your schema here\n",
    "        write_disposition=beam.io.BigQueryDisposition.WRITE_APPEND,\n",
    "        create_disposition=beam.io.BigQueryDisposition.CREATE_IF_NEEDED\n",
    "    )\n",
    "\n",
    "    pipeline.run()\n",
    "\n",
    "if __name__ == '__main__':\n",
    "    run()\n"
   ]
  },
  {
   "cell_type": "code",
   "execution_count": null,
   "id": "d5e1f5f3-8947-4463-b708-495de3840e4a",
   "metadata": {},
   "outputs": [],
   "source": []
  }
 ],
 "metadata": {
  "kernelspec": {
   "display_name": "01. Apache Beam 2.49.0 for Python 3",
   "language": "python",
   "name": "01-apache-beam-2.49.0"
  },
  "language_info": {
   "codemirror_mode": {
    "name": "ipython",
    "version": 3
   },
   "file_extension": ".py",
   "mimetype": "text/x-python",
   "name": "python",
   "nbconvert_exporter": "python",
   "pygments_lexer": "ipython3",
   "version": "3.8.10"
  }
 },
 "nbformat": 4,
 "nbformat_minor": 5
}
